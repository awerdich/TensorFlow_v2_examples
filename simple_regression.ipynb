{
 "cells": [
  {
   "cell_type": "code",
   "execution_count": 1,
   "id": "7f4ed3c0",
   "metadata": {},
   "outputs": [],
   "source": [
    "import numpy as np\n",
    "from matplotlib import pyplot as plt\n",
    "\n",
    "# Linear regression from sklearn\n",
    "from sklearn.linear_model import LinearRegression"
   ]
  },
  {
   "cell_type": "markdown",
   "id": "0845fbfb",
   "metadata": {},
   "source": [
    "### Linear Regression ###\n",
    "https://realpython.com/linear-regression-in-python/"
   ]
  },
  {
   "cell_type": "code",
   "execution_count": 2,
   "id": "3ad99282",
   "metadata": {},
   "outputs": [
    {
     "data": {
      "image/png": "[encoded data removed]",
      "text/plain": [
       "<Figure size 432x288 with 1 Axes>"
      ]
     },
     "metadata": {
      "needs_background": "light"
     },
     "output_type": "display_data"
    }
   ],
   "source": [
    "x = [1, 2, 5, 6, 8]\n",
    "y = [2.1, 4.5, 9.25, 11.45, 16.2]\n",
    "\n",
    "plt.plot(x, y, 'ko')\n",
    "plt.show()"
   ]
  },
  {
   "cell_type": "markdown",
   "id": "be2d21a2",
   "metadata": {},
   "source": [
    "### Change the shape of the input and output data ###"
   ]
  },
  {
   "cell_type": "code",
   "execution_count": 3,
   "id": "7e8cb6b2",
   "metadata": {},
   "outputs": [
    {
     "name": "stdout",
     "output_type": "stream",
     "text": [
      "(5, 1)\n",
      "(5,)\n"
     ]
    }
   ],
   "source": [
    "# Re-shape the data\n",
    "x1 = np.array(x)\n",
    "y1 = np.array(y)\n",
    "\n",
    "# x must be two-dimensional, one column and the data in the rows\n",
    "x1 = np.reshape(x1, newshape=(-1, 1))\n",
    "\n",
    "# Let's look at the shapes of x1 and y1\n",
    "print(x1.shape)\n",
    "print(y1.shape)"
   ]
  },
  {
   "cell_type": "markdown",
   "id": "f3da8211",
   "metadata": {},
   "source": [
    "### Create the linear model and fit the data ###"
   ]
  },
  {
   "cell_type": "code",
   "execution_count": 4,
   "id": "fbb80708",
   "metadata": {},
   "outputs": [
    {
     "data": {
      "text/plain": [
       "LinearRegression()"
      ]
     },
     "execution_count": 4,
     "metadata": {},
     "output_type": "execute_result"
    }
   ],
   "source": [
    "# Create an instance of the model class\n",
    "model = LinearRegression()\n",
    "\n",
    "# Start using the model\n",
    "model.fit(x1, y1)"
   ]
  },
  {
   "cell_type": "code",
   "execution_count": 5,
   "id": "3c47586a",
   "metadata": {},
   "outputs": [
    {
     "name": "stdout",
     "output_type": "stream",
     "text": [
      "Best linear fit: y = 1.94 * x + 0.18\n"
     ]
    }
   ],
   "source": [
    "# Get the results y = m * x + c\n",
    "m = model.coef_[0]\n",
    "c = model.intercept_\n",
    "\n",
    "# Print the best fit equation\n",
    "print(f'Best linear fit: y = {m:.2f} * x + {c:.2f}')"
   ]
  },
  {
   "cell_type": "markdown",
   "id": "7c6a8119",
   "metadata": {},
   "source": [
    "### Create a graph of the original data and fit line ###"
   ]
  },
  {
   "cell_type": "code",
   "execution_count": 6,
   "id": "b72b15af",
   "metadata": {},
   "outputs": [],
   "source": [
    "# Create some new data for the plot of the fit line\n",
    "x_model = np.arange(np.amin(x), np.amax(x)+0.5, 0.5)\n",
    "\n",
    "# We need to reshape this into a 2D array as well\n",
    "x_model = np.reshape(x_model, newshape=(-1, 1))\n",
    "y_model = model.predict(x_model)\n",
    "\n",
    "# We can also predict the y values for the original x values\n",
    "y1_model = model.predict(x1)"
   ]
  },
  {
   "cell_type": "code",
   "execution_count": 7,
   "id": "adf89a23",
   "metadata": {},
   "outputs": [
    {
     "data": {
      "image/png": "[encoded data removed]",
      "text/plain": [
       "<Figure size 360x360 with 1 Axes>"
      ]
     },
     "metadata": {
      "needs_background": "light"
     },
     "output_type": "display_data"
    }
   ],
   "source": [
    "# Now, we can plot the original data\n",
    "# Lets make a proper figure\n",
    "fig, ax = plt.subplots(figsize = (5, 5))\n",
    "\n",
    "# Plot the original data\n",
    "ax.scatter(x, y, color = 'k', marker='o', s=30)\n",
    "\n",
    "# Plot the fit line\n",
    "ax.plot(x_model, y_model, color='r', linewidth=2, linestyle='--')\n",
    "\n",
    "# Plot the predictions of the original data\n",
    "ax.scatter(x, y1_model, color='r', marker='o', s=10)\n",
    "\n",
    "# Set the axis limits and ticks\n",
    "ax.set(xlim = [0, 10], xticks=np.arange(0, 11, 2),\n",
    "       ylim = [0, 20], yticks=np.arange(0, 21, 5))\n",
    "\n",
    "# Axes labels\n",
    "ax.set_xlabel('X', fontsize=15)\n",
    "ax.set_ylabel('Y', fontsize=15)\n",
    "\n",
    "# Increase the font size for the tickmarks\n",
    "ax.tick_params(axis='x', labelsize=15)\n",
    "ax.tick_params(axis='y', labelsize=15)\n",
    "\n",
    "# Let's add some grid lines\n",
    "plt.grid()\n",
    "\n",
    "plt.show()"
   ]
  },
  {
   "cell_type": "markdown",
   "id": "d6f6a451",
   "metadata": {},
   "source": [
    "### How good is the model? ###"
   ]
  },
  {
   "cell_type": "code",
   "execution_count": 8,
   "id": "775dcb40",
   "metadata": {},
   "outputs": [
    {
     "name": "stdout",
     "output_type": "stream",
     "text": [
      "[-0.02018072  0.44457831 -0.61114458 -0.34638554  0.53313253]\n",
      "\n",
      "[0.00040726157642621293, 0.19764987661489317, 0.37349769560168133, 0.11998294382348632, 0.28423029467266936]\n",
      "\n",
      "Mean squared error:  0.20\n",
      "Root-mean-square deviation:  0.44\n"
     ]
    }
   ],
   "source": [
    "# Lets calculate the difference betweeen\n",
    "# The original data (y, black) and the predicted data (y1_model, red)\n",
    "\n",
    "y_differences = y - y1_model\n",
    "print(y_differences)\n",
    "\n",
    "# Now, how can we put this into a single number?\n",
    "# Lets square them\n",
    "y_squared = [value**2 for value in y_differences]\n",
    "print()\n",
    "print(y_squared)\n",
    "print()\n",
    "\n",
    "# Then, we can calculate the mean (Mean Squared Error)\n",
    "MSE = np.mean(y_squared)\n",
    "print(f'Mean squared error: {MSE: .2f}')\n",
    "\n",
    "# Or, we can calculate the square root of the mean difference\n",
    "RMSD = np.sqrt(np.mean(y_squared))\n",
    "print(f'Root-mean-square deviation: {RMSD: .2f}')"
   ]
  }
 ],
 "metadata": {
  "kernelspec": {
   "display_name": "Python 3 (ipykernel)",
   "language": "python",
   "name": "python3"
  },
  "language_info": {
   "codemirror_mode": {
    "name": "ipython",
    "version": 3
   },
   "file_extension": ".py",
   "mimetype": "text/x-python",
   "name": "python",
   "nbconvert_exporter": "python",
   "pygments_lexer": "ipython3",
   "version": "3.8.12"
  }
 },
 "nbformat": 4,
 "nbformat_minor": 5
}
